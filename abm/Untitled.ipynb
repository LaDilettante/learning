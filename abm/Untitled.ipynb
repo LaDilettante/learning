{
 "cells": [
  {
   "cell_type": "code",
   "execution_count": 5,
   "metadata": {},
   "outputs": [],
   "source": [
    "import numpy as np\n",
    "import scipy.stats as stats"
   ]
  },
  {
   "cell_type": "markdown",
   "metadata": {},
   "source": [
    "Two sides:\n",
    "- Different employer type, each with a set of preference\n",
    "- Individual employee, sharing the same preference\n",
    "\n",
    "All employers scan all employees, make offer\n",
    "Employee choose the best offers\n",
    "\n",
    "Data structure:\n",
    "- Employee has an opportunity set"
   ]
  },
  {
   "cell_type": "code",
   "execution_count": 87,
   "metadata": {},
   "outputs": [],
   "source": [
    "class Job(object):\n",
    "    \n",
    "    def __init__(self, ww, beta, b):\n",
    "        self.beta = beta\n",
    "        self.ww = ww\n",
    "        self.b = b # Reserve utility\n",
    "        \n",
    "    def offer(self, worker):\n",
    "        U_hiring = self.beta.dot(worker.xx)\n",
    "        return U_hiring > self.b\n",
    "        \n",
    "\n",
    "class Worker(object):\n",
    "    \n",
    "    def __init__(self, xx, alpha, opp):\n",
    "        self.alpha = alpha\n",
    "        self.opp = opp\n",
    "        self.xx = xx\n",
    "       \n",
    "n_job = 10\n",
    "def create_random_job():\n",
    "    # prestige, autonomy\n",
    "    ww = stats.multivariate_normal.rvs(mean = [40, 50],\n",
    "                                       cov = [[10, 0], [0, 20]])\n",
    "    # beta for educ, age, nonwhite\n",
    "    beta = stats.multivariate_normal.rvs(mean = [1, 1, 0],\n",
    "                                         cov = [[1, 0.5, 0],\n",
    "                                                [0.5, 2, 0],\n",
    "                                                [0, 0, 3]])\n",
    "    b = 20 # Reserve utility\n",
    "    return Job(ww, beta, b)\n",
    "\n",
    "def create_random_worker():\n",
    "    # educ, age, nonwhite\n",
    "    xx = \n",
    "                               \n",
    "n_job = 10\n",
    "jobs = [create_random_job() for i in range(n_job)]"
   ]
  },
  {
   "cell_type": "code",
   "execution_count": 88,
   "metadata": {},
   "outputs": [
    {
     "data": {
      "text/plain": [
       "[<__main__.Job at 0x108c61b70>,\n",
       " <__main__.Job at 0x108c61cc0>,\n",
       " <__main__.Job at 0x10e31e6d8>,\n",
       " <__main__.Job at 0x10e31ec88>,\n",
       " <__main__.Job at 0x10e31e358>,\n",
       " <__main__.Job at 0x10e31e9e8>,\n",
       " <__main__.Job at 0x108c4a080>,\n",
       " <__main__.Job at 0x108c4a0b8>,\n",
       " <__main__.Job at 0x108c4a0f0>,\n",
       " <__main__.Job at 0x108c4a128>]"
      ]
     },
     "execution_count": 88,
     "metadata": {},
     "output_type": "execute_result"
    }
   ],
   "source": [
    "stats.gamma.rvs()"
   ]
  }
 ],
 "metadata": {
  "kernelspec": {
   "display_name": "Python 3",
   "language": "python",
   "name": "python3"
  },
  "language_info": {
   "codemirror_mode": {
    "name": "ipython",
    "version": 3
   },
   "file_extension": ".py",
   "mimetype": "text/x-python",
   "name": "python",
   "nbconvert_exporter": "python",
   "pygments_lexer": "ipython3",
   "version": "3.6.3"
  }
 },
 "nbformat": 4,
 "nbformat_minor": 2
}
