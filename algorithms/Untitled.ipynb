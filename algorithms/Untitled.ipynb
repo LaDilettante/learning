{
 "cells": [
  {
   "cell_type": "markdown",
   "metadata": {},
   "source": [
    "# Merge sort\n",
    "\n",
    "Divide and conquer\n",
    "\n",
    "- Divide the array in halves\n",
    "- Sort each half (recursively)\n",
    "- Merge the two half"
   ]
  },
  {
   "cell_type": "code",
   "execution_count": 15,
   "metadata": {},
   "outputs": [
    {
     "name": "stdout",
     "output_type": "stream",
     "text": [
      "[1, 2, 3, 4]\n",
      "[1, 2, 2, 4, 4, 5, 6, 9]\n"
     ]
    }
   ],
   "source": [
    "# merge sort\n",
    "def merge_sort(arr):\n",
    "    def merge(arr1, arr2):\n",
    "    '''Merging two sorted arrays.'''\n",
    "    pointer = 0\n",
    "    sorted_arr = [None] * (len(arr1) + len(arr2))\n",
    "    \n",
    "    # REMEMBER: We can only compare the first elements when both arr1 and arr2 still have elements\n",
    "    while len(arr1) > 0 and len(arr2) > 0:\n",
    "        if arr1[0] <= arr2[0]:\n",
    "            sorted_arr[pointer] = arr1.pop(0)\n",
    "        else:\n",
    "            sorted_arr[pointer] = arr2.pop(0)\n",
    "        pointer += 1\n",
    "    if len(arr1) == 0:\n",
    "        sorted_arr[-1] = arr2.pop(0)\n",
    "    else:\n",
    "        sorted_arr[-1] = arr1.pop(0)\n",
    "    return sorted_arr\n",
    "\n",
    "    if len(arr) == 1:\n",
    "        return arr\n",
    "    if len(arr) > 1:\n",
    "        mid = round(len(arr) / 2)\n",
    "        return(merge(merge_sort(arr[:mid]), merge_sort(arr[mid:])))\n",
    "    \n",
    "print(merge([1, 3], [2, 4]))\n",
    "print(merge_sort([1, 5, 2, 9, 6, 4, 2, 4]))"
   ]
  },
  {
   "cell_type": "markdown",
   "metadata": {},
   "source": [
    "# External memory merge sort\n",
    "\n",
    "Sort an array of size R, which doesn't fit into M memory\n",
    "- Read M blocks of R at a time, sort them, then write out level-0 runs\n",
    "- Merge (M - 1) level-0 runs at a time, then write out level-1 runs\n",
    "- "
   ]
  },
  {
   "cell_type": "code",
   "execution_count": 4,
   "metadata": {},
   "outputs": [
    {
     "data": {
      "text/plain": [
       "[]"
      ]
     },
     "execution_count": 4,
     "metadata": {},
     "output_type": "execute_result"
    }
   ],
   "source": []
  },
  {
   "cell_type": "code",
   "execution_count": 6,
   "metadata": {},
   "outputs": [
    {
     "data": {
      "text/plain": [
       "[2]"
      ]
     },
     "execution_count": 6,
     "metadata": {},
     "output_type": "execute_result"
    }
   ],
   "source": [
    "[1, 2][1:]"
   ]
  },
  {
   "cell_type": "code",
   "execution_count": null,
   "metadata": {},
   "outputs": [],
   "source": []
  }
 ],
 "metadata": {
  "kernelspec": {
   "display_name": "Python 3",
   "language": "python",
   "name": "python3"
  },
  "language_info": {
   "codemirror_mode": {
    "name": "ipython",
    "version": 3
   },
   "file_extension": ".py",
   "mimetype": "text/x-python",
   "name": "python",
   "nbconvert_exporter": "python",
   "pygments_lexer": "ipython3",
   "version": "3.6.3"
  }
 },
 "nbformat": 4,
 "nbformat_minor": 2
}
