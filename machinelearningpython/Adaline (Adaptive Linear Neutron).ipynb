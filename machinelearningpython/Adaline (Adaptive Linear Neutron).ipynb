{
 "cells": [
  {
   "cell_type": "code",
   "execution_count": 23,
   "metadata": {
    "collapsed": true
   },
   "outputs": [],
   "source": [
    "import numpy as np\n",
    "import pandas as pd\n",
    "import matplotlib.pyplot as plt\n",
    "%matplotlib inline"
   ]
  },
  {
   "cell_type": "markdown",
   "metadata": {},
   "source": [
    "Key difference with perceptron: weights are updated based on a linear activation function, not unit step function.\n",
    "\n",
    "Goal is to minimize the SSE\n",
    "\n",
    "$$\n",
    "J(w) = 1/2 \\sum_i (y_i - \\phi(z_i))^2 \\\\\n",
    "= 1/2 \\sum_i (y_i - w'x)^2\n",
    "$$"
   ]
  },
  {
   "cell_type": "markdown",
   "metadata": {},
   "source": [
    "We minimize the SSE with gradient descent\n",
    "\n",
    "$$\n",
    "w := w + \\Delta w = w + \\eta \\Delta J(w) \\\\\n",
    "\\Delta J(w) = \\frac{\\delta J(w)}{\\delta w} = -\\sum_i (y_i - w'x_i) x_i\n",
    "$$"
   ]
  },
  {
   "cell_type": "code",
   "execution_count": 73,
   "metadata": {
    "collapsed": true
   },
   "outputs": [],
   "source": [
    "class AdalineGD(object):\n",
    "    \"\"\"\n",
    "    Adaptive LInear Neuron Classifier\n",
    "    \n",
    "    Parameters\n",
    "    ----------\n",
    "    n_iter : int\n",
    "        How many passes we'll do with gradient descent\n",
    "        (we need this bound or it'll never stop)\n",
    "    \n",
    "    Attributes\n",
    "    ----------\n",
    "    \n",
    "    \n",
    "    \"\"\"\n",
    "    def __init__(self, eta, n_iter):\n",
    "        self.eta = eta\n",
    "        self.n_iter = n_iter\n",
    "    \n",
    "    def fit(self, X, y):\n",
    "        X = np.hstack((np.ones((X.shape[0], 1)), X))\n",
    "        N, J = X.shape\n",
    "        \n",
    "        self.w_ = np.zeros(J)\n",
    "        self.SSE_ = list()\n",
    "        \n",
    "        for _ in range(self.n_iter):\n",
    "            gradient = - X.T.dot(y - X.dot(self.w_))\n",
    "            self.w_ += - self.eta * gradient\n",
    "            \n",
    "            SSE = np.sum((y - X.dot(self.w_)) ** 2) / 2\n",
    "            self.SSE_.append(SSE)\n",
    "            \n",
    "        return self\n",
    "            \n",
    "    def predict(self, X):\n",
    "        return X.dot(self.w_)"
   ]
  },
  {
   "cell_type": "code",
   "execution_count": 74,
   "metadata": {
    "collapsed": true
   },
   "outputs": [],
   "source": [
    "df = pd.read_csv('https://archive.ics.uci.edu/ml/'\n",
    "                 'machine-learning-databases/iris/iris.data', \n",
    "                 header=None)\n",
    "y = df.iloc[0:100, 4].values\n",
    "y = np.where(y == 'Iris-setosa', 1, -1)\n",
    "X = df.iloc[0:100, [0, 2]].values"
   ]
  },
  {
   "cell_type": "code",
   "execution_count": 75,
   "metadata": {},
   "outputs": [],
   "source": [
    "ada1 = AdalineGD(eta=0.01, n_iter=10).fit(X, y)"
   ]
  },
  {
   "cell_type": "code",
   "execution_count": 76,
   "metadata": {},
   "outputs": [
    {
     "data": {
      "text/plain": [
       "array([  3.79038389e+13,   2.11689469e+14,   1.18464807e+14])"
      ]
     },
     "execution_count": 76,
     "metadata": {},
     "output_type": "execute_result"
    }
   ],
   "source": [
    "ada1.w_"
   ]
  },
  {
   "cell_type": "code",
   "execution_count": 81,
   "metadata": {},
   "outputs": [
    {
     "data": {
      "text/plain": [
       "<matplotlib.text.Text at 0x11561b278>"
      ]
     },
     "execution_count": 81,
     "metadata": {},
     "output_type": "execute_result"
    },
    {
     "data": {
      "image/png": "[encoded data removed]",
      "text/plain": [
       "<matplotlib.figure.Figure at 0x1155175f8>"
      ]
     },
     "metadata": {},
     "output_type": "display_data"
    }
   ],
   "source": [
    "fig, ax = plt.subplots(nrows=1, ncols=2, figsize=(7, 3))\n",
    "ada1 = AdalineGD(eta=0.01, n_iter=10).fit(X, y)\n",
    "ax[0].plot(range(len(ada1.SSE_)), np.log10(ada1.SSE_))\n",
    "ax[0].set_title('learning rate = 0.01.\\nToo large, SSE increase due to overshoot')\n",
    "ada2 = AdalineGD(eta=0.0001, n_iter=10).fit(X, y)\n",
    "ax[1].plot(range(len(ada2.SSE_)), ada2.SSE_)\n",
    "ax[1].set_title('learning rate = 0.0001.\\nToo small, slow SSE decrease')"
   ]
  },
  {
   "cell_type": "markdown",
   "metadata": {},
   "source": [
    "Should standardize the variable so that the learning rate is the same for all"
   ]
  },
  {
   "cell_type": "code",
   "execution_count": null,
   "metadata": {
    "collapsed": true
   },
   "outputs": [],
   "source": []
  }
 ],
 "metadata": {
  "kernelspec": {
   "display_name": "Python 3",
   "language": "python",
   "name": "python3"
  },
  "language_info": {
   "codemirror_mode": {
    "name": "ipython",
    "version": 3
   },
   "file_extension": ".py",
   "mimetype": "text/x-python",
   "name": "python",
   "nbconvert_exporter": "python",
   "pygments_lexer": "ipython3",
   "version": "3.6.2"
  }
 },
 "nbformat": 4,
 "nbformat_minor": 2
}
