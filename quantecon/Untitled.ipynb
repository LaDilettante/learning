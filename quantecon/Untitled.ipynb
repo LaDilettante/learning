{
 "cells": [
  {
   "cell_type": "code",
   "execution_count": 13,
   "metadata": {
    "collapsed": false
   },
   "outputs": [
    {
     "data": {
      "text/plain": [
       "array([1, 1, 1, 1, 1])"
      ]
     },
     "execution_count": 13,
     "metadata": {},
     "output_type": "execute_result"
    }
   ],
   "source": [
    "from quantecon import DiscreteRV\n",
    "import numpy as np\n",
    "import scipy as sp\n",
    "psi = 0.1, 0.9\n",
    "d = DiscreteRV(psi)\n",
    "d.draw(5)"
   ]
  },
  {
   "cell_type": "code",
   "execution_count": 7,
   "metadata": {
    "collapsed": false
   },
   "outputs": [
    {
     "data": {
      "text/plain": [
       "quantecon.discrete_rv.DiscreteRV"
      ]
     },
     "execution_count": 7,
     "metadata": {},
     "output_type": "execute_result"
    }
   ],
   "source": [
    "type(d)"
   ]
  },
  {
   "cell_type": "code",
   "execution_count": 10,
   "metadata": {
    "collapsed": false
   },
   "outputs": [
    {
     "data": {
      "text/plain": [
       "True"
      ]
     },
     "execution_count": 10,
     "metadata": {},
     "output_type": "execute_result"
    }
   ],
   "source": [
    "isinstance(d, DiscreteRV)"
   ]
  },
  {
   "cell_type": "code",
   "execution_count": 12,
   "metadata": {
    "collapsed": false
   },
   "outputs": [
    {
     "data": {
      "text/plain": [
       "True"
      ]
     },
     "execution_count": 12,
     "metadata": {},
     "output_type": "execute_result"
    }
   ],
   "source": [
    "isinstance(5, int)"
   ]
  },
  {
   "cell_type": "code",
   "execution_count": 59,
   "metadata": {
    "collapsed": false
   },
   "outputs": [],
   "source": [
    "P = np.random.rand(3, 4)"
   ]
  },
  {
   "cell_type": "code",
   "execution_count": 63,
   "metadata": {
    "collapsed": false
   },
   "outputs": [
    {
     "data": {
      "text/plain": [
       "array([[ 0.07110084,  0.29289783,  0.78163512,  0.09272462],\n",
       "       [ 0.96225541,  0.9272179 ,  0.50003269,  0.39267102],\n",
       "       [ 0.18979068,  0.25307909,  0.24892473,  0.76951829]])"
      ]
     },
     "execution_count": 63,
     "metadata": {},
     "output_type": "execute_result"
    }
   ],
   "source": [
    "P"
   ]
  },
  {
   "cell_type": "code",
   "execution_count": 72,
   "metadata": {
    "collapsed": false
   },
   "outputs": [
    {
     "data": {
      "text/plain": [
       "2"
      ]
     },
     "execution_count": 72,
     "metadata": {},
     "output_type": "execute_result"
    }
   ],
   "source": [
    "len(P)"
   ]
  },
  {
   "cell_type": "code",
   "execution_count": 70,
   "metadata": {
    "collapsed": true
   },
   "outputs": [],
   "source": [
    "def ts(P, init, sample_size):\n",
    "    if isinstance(init, tuple):\n",
    "        X0 = DiscreteRV(init).draw(1)\n",
    "    elif isinstance(init, int):\n",
    "        X0 = init\n",
    "    else:\n",
    "        raise ValueError\n",
    "    X = np.empty(sample_size)\n",
    "    for i in range(1, sample_size):\n",
    "        X[i] = DiscreteRV(P[X[i-1], ]).draw(1)\n",
    "    return X"
   ]
  },
  {
   "cell_type": "code",
   "execution_count": 71,
   "metadata": {
    "collapsed": false
   },
   "outputs": [
    {
     "name": "stdout",
     "output_type": "stream",
     "text": [
      "0.24947\n",
      "0.24882\n"
     ]
    }
   ],
   "source": [
    "from quantecon import mc_sample_path\n",
    "P = np.array([[.4, .6], [.2, .8]])\n",
    "s = mc_sample_path(P, init=(0.5, 0.5), sample_size=100000)\n",
    "print((s == 0).mean())  # Should be about 0.25\n",
    "\n",
    "s2 = ts(P, init=(0.5, 0.5), sample_size=100000)\n",
    "print((s2 == 0).mean())"
   ]
  },
  {
   "cell_type": "code",
   "execution_count": 74,
   "metadata": {
    "collapsed": false
   },
   "outputs": [
    {
     "name": "stdout",
     "output_type": "stream",
     "text": [
      "[[ 0.25  0.75]]\n"
     ]
    }
   ],
   "source": [
    "from quantecon import mc_compute_stationary\n",
    "P = np.array([[.4, .6], [.2, .8]])\n",
    "print(mc_compute_stationary(P))"
   ]
  },
  {
   "cell_type": "code",
   "execution_count": null,
   "metadata": {
    "collapsed": true
   },
   "outputs": [],
   "source": []
  }
 ],
 "metadata": {
  "kernelspec": {
   "display_name": "Python 2",
   "language": "python",
   "name": "python2"
  },
  "language_info": {
   "codemirror_mode": {
    "name": "ipython",
    "version": 2
   },
   "file_extension": ".py",
   "mimetype": "text/x-python",
   "name": "python",
   "nbconvert_exporter": "python",
   "pygments_lexer": "ipython2",
   "version": "2.7.9"
  }
 },
 "nbformat": 4,
 "nbformat_minor": 0
}
